{
 "cells": [
  {
   "cell_type": "code",
   "execution_count": 1,
   "id": "7d69879d",
   "metadata": {
    "_cell_guid": "b1076dfc-b9ad-4769-8c92-a6c4dae69d19",
    "_uuid": "8f2839f25d086af736a60e9eeb907d3b93b6e0e5",
    "execution": {
     "iopub.execute_input": "2024-06-19T20:55:16.195159Z",
     "iopub.status.busy": "2024-06-19T20:55:16.194425Z",
     "iopub.status.idle": "2024-06-19T20:55:24.093707Z",
     "shell.execute_reply": "2024-06-19T20:55:24.092910Z"
    },
    "papermill": {
     "duration": 7.916426,
     "end_time": "2024-06-19T20:55:24.096212",
     "exception": false,
     "start_time": "2024-06-19T20:55:16.179786",
     "status": "completed"
    },
    "tags": []
   },
   "outputs": [],
   "source": [
    "import torch\n",
    "from torch import nn\n",
    "from torch.utils.data import DataLoader, Dataset, random_split\n",
    "from torchvision import models,transforms, datasets\n",
    "import torch.optim as optim\n",
    "import cv2\n",
    "import os\n",
    "import numpy as np\n",
    "from sklearn.preprocessing import LabelEncoder\n",
    "from PIL import Image\n",
    "from torch.optim import lr_scheduler\n",
    "import matplotlib.pyplot as plt"
   ]
  },
  {
   "cell_type": "markdown",
   "id": "e2efb8e9",
   "metadata": {
    "papermill": {
     "duration": 0.012672,
     "end_time": "2024-06-19T20:55:24.122889",
     "exception": false,
     "start_time": "2024-06-19T20:55:24.110217",
     "status": "completed"
    },
    "tags": []
   },
   "source": [
    "# Explore Dataset"
   ]
  },
  {
   "cell_type": "code",
   "execution_count": 2,
   "id": "744d8e9f",
   "metadata": {
    "execution": {
     "iopub.execute_input": "2024-06-19T20:55:24.150398Z",
     "iopub.status.busy": "2024-06-19T20:55:24.150013Z",
     "iopub.status.idle": "2024-06-19T20:55:24.452260Z",
     "shell.execute_reply": "2024-06-19T20:55:24.451322Z"
    },
    "papermill": {
     "duration": 0.318429,
     "end_time": "2024-06-19T20:55:24.454345",
     "exception": false,
     "start_time": "2024-06-19T20:55:24.135916",
     "status": "completed"
    },
    "tags": []
   },
   "outputs": [
    {
     "name": "stdout",
     "output_type": "stream",
     "text": [
      "Class: empty, Number of Images: 3045\n",
      "Class: not_empty, Number of Images: 3045\n",
      "Total number of classes: 2\n"
     ]
    }
   ],
   "source": [
    "dataset_folder = '/kaggle/input/parking-lot-detection-counter/parking/clf-data'\n",
    "total_classes = 0\n",
    "\n",
    "for class_folder in os.listdir(dataset_folder):\n",
    "    class_folder_path = os.path.join(dataset_folder, class_folder)\n",
    "    if os.path.isdir(class_folder_path):\n",
    "        total_classes += 1\n",
    "        images = os.listdir(class_folder_path)\n",
    "        num_images = len(images)\n",
    "        print(f\"Class: {class_folder}, Number of Images: {num_images}\")\n",
    "\n",
    "print(f\"Total number of classes: {total_classes}\")"
   ]
  },
  {
   "cell_type": "code",
   "execution_count": 3,
   "id": "0095f302",
   "metadata": {
    "execution": {
     "iopub.execute_input": "2024-06-19T20:55:24.482309Z",
     "iopub.status.busy": "2024-06-19T20:55:24.482025Z",
     "iopub.status.idle": "2024-06-19T20:55:24.486081Z",
     "shell.execute_reply": "2024-06-19T20:55:24.485284Z"
    },
    "papermill": {
     "duration": 0.02047,
     "end_time": "2024-06-19T20:55:24.487933",
     "exception": false,
     "start_time": "2024-06-19T20:55:24.467463",
     "status": "completed"
    },
    "tags": []
   },
   "outputs": [],
   "source": [
    "train_dir = '/kaggle/input/parking-lot-detection-counter/parking/clf-data'\n",
    "num_classes = 2\n",
    "image_shape = (64, 64)"
   ]
  },
  {
   "cell_type": "markdown",
   "id": "b1af7865",
   "metadata": {
    "papermill": {
     "duration": 0.012606,
     "end_time": "2024-06-19T20:55:24.513705",
     "exception": false,
     "start_time": "2024-06-19T20:55:24.501099",
     "status": "completed"
    },
    "tags": []
   },
   "source": [
    "# Prepare Dataset for the Model"
   ]
  },
  {
   "cell_type": "code",
   "execution_count": 4,
   "id": "de709ce6",
   "metadata": {
    "execution": {
     "iopub.execute_input": "2024-06-19T20:55:24.540442Z",
     "iopub.status.busy": "2024-06-19T20:55:24.540166Z",
     "iopub.status.idle": "2024-06-19T20:55:24.551424Z",
     "shell.execute_reply": "2024-06-19T20:55:24.550701Z"
    },
    "papermill": {
     "duration": 0.026779,
     "end_time": "2024-06-19T20:55:24.553282",
     "exception": false,
     "start_time": "2024-06-19T20:55:24.526503",
     "status": "completed"
    },
    "tags": []
   },
   "outputs": [],
   "source": [
    "class MakeDataset(Dataset):\n",
    "    def __init__(self, root_folder, transform=None):\n",
    "        self.root_folder = root_folder\n",
    "        self.transform = transform\n",
    "        self.classes = sorted(os.listdir(root_folder), key=self.natural_key)\n",
    "        self.class_to_idx = {cls: i for i, cls in enumerate(self.classes)}\n",
    "        self.images = self.make_dataset()\n",
    "\n",
    "    def natural_key(self, string_):\n",
    "        try:\n",
    "            return int(string_)\n",
    "        except ValueError:\n",
    "            return string_\n",
    "\n",
    "    def make_dataset(self):\n",
    "        images = []\n",
    "        for label in self.classes:\n",
    "            label_folder = os.path.join(self.root_folder, label)\n",
    "            for image_name in os.listdir(label_folder):\n",
    "                image_path = os.path.join(label_folder, image_name)\n",
    "                item = (image_path, self.class_to_idx[label])\n",
    "                images.append(item)\n",
    "        return images\n",
    "\n",
    "    def __len__(self):\n",
    "        return len(self.images)\n",
    "\n",
    "    def __getitem__(self, index):\n",
    "        image_path, label = self.images[index]\n",
    "        try:\n",
    "            image = Image.open(image_path).convert(\"RGB\")\n",
    "        except (OSError, IOError) as e:\n",
    "            print(f\"Skipping corrupted image: {image_path}, Error: {e}\")\n",
    "            # Return a zero tensor and a dummy label in case of error\n",
    "            image = Image.new('RGB', (224, 224))  # Assuming the image size to be 224x224\n",
    "            label = -1  # You might want to handle this label properly later\n",
    "\n",
    "        if self.transform:\n",
    "            image = self.transform(image)\n",
    "\n",
    "        return image, label"
   ]
  },
  {
   "cell_type": "code",
   "execution_count": 5,
   "id": "3b703964",
   "metadata": {
    "execution": {
     "iopub.execute_input": "2024-06-19T20:55:24.580255Z",
     "iopub.status.busy": "2024-06-19T20:55:24.579957Z",
     "iopub.status.idle": "2024-06-19T20:55:24.583998Z",
     "shell.execute_reply": "2024-06-19T20:55:24.583269Z"
    },
    "papermill": {
     "duration": 0.019652,
     "end_time": "2024-06-19T20:55:24.585877",
     "exception": false,
     "start_time": "2024-06-19T20:55:24.566225",
     "status": "completed"
    },
    "tags": []
   },
   "outputs": [],
   "source": [
    "transform = transforms.Compose([\n",
    "    transforms.Resize(image_shape),\n",
    "    transforms.ToTensor(),\n",
    "])"
   ]
  },
  {
   "cell_type": "code",
   "execution_count": 6,
   "id": "137055f2",
   "metadata": {
    "execution": {
     "iopub.execute_input": "2024-06-19T20:55:24.612634Z",
     "iopub.status.busy": "2024-06-19T20:55:24.612375Z",
     "iopub.status.idle": "2024-06-19T20:55:24.633318Z",
     "shell.execute_reply": "2024-06-19T20:55:24.632493Z"
    },
    "papermill": {
     "duration": 0.036613,
     "end_time": "2024-06-19T20:55:24.635273",
     "exception": false,
     "start_time": "2024-06-19T20:55:24.598660",
     "status": "completed"
    },
    "tags": []
   },
   "outputs": [],
   "source": [
    "dataset = MakeDataset(train_dir, transform=transform)"
   ]
  },
  {
   "cell_type": "code",
   "execution_count": 7,
   "id": "3353c7f6",
   "metadata": {
    "execution": {
     "iopub.execute_input": "2024-06-19T20:55:24.662540Z",
     "iopub.status.busy": "2024-06-19T20:55:24.662280Z",
     "iopub.status.idle": "2024-06-19T20:55:24.689769Z",
     "shell.execute_reply": "2024-06-19T20:55:24.688669Z"
    },
    "papermill": {
     "duration": 0.043814,
     "end_time": "2024-06-19T20:55:24.691939",
     "exception": false,
     "start_time": "2024-06-19T20:55:24.648125",
     "status": "completed"
    },
    "tags": []
   },
   "outputs": [],
   "source": [
    "train_size = int(0.8 * len(dataset))\n",
    "val_size = int(0.1 * len(dataset))\n",
    "test_size = len(dataset) - train_size - val_size\n",
    "train_dataset, val_dataset, test_dataset = random_split(dataset, [train_size, val_size, test_size])"
   ]
  },
  {
   "cell_type": "code",
   "execution_count": 8,
   "id": "b0ec898d",
   "metadata": {
    "execution": {
     "iopub.execute_input": "2024-06-19T20:55:24.718760Z",
     "iopub.status.busy": "2024-06-19T20:55:24.718501Z",
     "iopub.status.idle": "2024-06-19T20:55:24.722066Z",
     "shell.execute_reply": "2024-06-19T20:55:24.721295Z"
    },
    "papermill": {
     "duration": 0.019142,
     "end_time": "2024-06-19T20:55:24.723973",
     "exception": false,
     "start_time": "2024-06-19T20:55:24.704831",
     "status": "completed"
    },
    "tags": []
   },
   "outputs": [],
   "source": [
    "batch_size = 32"
   ]
  },
  {
   "cell_type": "code",
   "execution_count": 9,
   "id": "e206950b",
   "metadata": {
    "execution": {
     "iopub.execute_input": "2024-06-19T20:55:24.751301Z",
     "iopub.status.busy": "2024-06-19T20:55:24.751046Z",
     "iopub.status.idle": "2024-06-19T20:55:24.755638Z",
     "shell.execute_reply": "2024-06-19T20:55:24.754826Z"
    },
    "papermill": {
     "duration": 0.020518,
     "end_time": "2024-06-19T20:55:24.757463",
     "exception": false,
     "start_time": "2024-06-19T20:55:24.736945",
     "status": "completed"
    },
    "tags": []
   },
   "outputs": [],
   "source": [
    "train_loader = DataLoader(train_dataset, batch_size=batch_size, shuffle=True)\n",
    "val_loader = DataLoader(val_dataset, batch_size=batch_size, shuffle=False)\n",
    "test_loader = DataLoader(test_dataset, batch_size=batch_size, shuffle=False)"
   ]
  },
  {
   "cell_type": "code",
   "execution_count": 10,
   "id": "3fa88605",
   "metadata": {
    "execution": {
     "iopub.execute_input": "2024-06-19T20:55:24.785813Z",
     "iopub.status.busy": "2024-06-19T20:55:24.785544Z",
     "iopub.status.idle": "2024-06-19T20:55:26.449823Z",
     "shell.execute_reply": "2024-06-19T20:55:26.448804Z"
    },
    "papermill": {
     "duration": 1.681595,
     "end_time": "2024-06-19T20:55:26.452566",
     "exception": false,
     "start_time": "2024-06-19T20:55:24.770971",
     "status": "completed"
    },
    "tags": []
   },
   "outputs": [
    {
     "name": "stdout",
     "output_type": "stream",
     "text": [
      "Training Samples:\n"
     ]
    },
    {
     "data": {
      "image/png": "[encoded data removed]",
      "text/plain": [
       "<Figure size 1500x300 with 5 Axes>"
      ]
     },
     "metadata": {},
     "output_type": "display_data"
    },
    {
     "name": "stdout",
     "output_type": "stream",
     "text": [
      "Validation Samples:\n"
     ]
    },
    {
     "data": {
      "image/png": "[encoded data removed]",
      "text/plain": [
       "<Figure size 1500x300 with 5 Axes>"
      ]
     },
     "metadata": {},
     "output_type": "display_data"
    },
    {
     "name": "stdout",
     "output_type": "stream",
     "text": [
      "Testing Samples:\n"
     ]
    },
    {
     "data": {
      "image/png": "[encoded data removed]",
      "text/plain": [
       "<Figure size 1500x300 with 5 Axes>"
      ]
     },
     "metadata": {},
     "output_type": "display_data"
    }
   ],
   "source": [
    "def visualize(loader, num_samples=5):\n",
    "    # Iterate through the DataLoader to get a batch of data\n",
    "    for batch_idx, (images, labels) in enumerate(loader):\n",
    "        # Plot the images\n",
    "        fig, axes = plt.subplots(1, num_samples, figsize=(15, 3))\n",
    "        for i in range(num_samples):\n",
    "            ax = axes[i]\n",
    "            ax.imshow(np.transpose(images[i], (1, 2, 0)))\n",
    "            ax.set_title(f\"Label: {labels[i]}\")\n",
    "            ax.axis('off')\n",
    "        plt.show()\n",
    "        break  # Stop after displaying the first batch\n",
    "\n",
    "# Visualize samples from the training loader\n",
    "print(\"Training Samples:\")\n",
    "visualize(train_loader)\n",
    "\n",
    "# Visualize samples from the validation loader\n",
    "print(\"Validation Samples:\")\n",
    "visualize(val_loader)\n",
    "\n",
    "print(\"Testing Samples:\")\n",
    "visualize(test_loader)"
   ]
  },
  {
   "cell_type": "code",
   "execution_count": 11,
   "id": "ac7692e5",
   "metadata": {
    "execution": {
     "iopub.execute_input": "2024-06-19T20:55:26.486856Z",
     "iopub.status.busy": "2024-06-19T20:55:26.486189Z",
     "iopub.status.idle": "2024-06-19T20:55:27.818232Z",
     "shell.execute_reply": "2024-06-19T20:55:27.817246Z"
    },
    "papermill": {
     "duration": 1.350745,
     "end_time": "2024-06-19T20:55:27.820787",
     "exception": false,
     "start_time": "2024-06-19T20:55:26.470042",
     "status": "completed"
    },
    "tags": []
   },
   "outputs": [
    {
     "name": "stderr",
     "output_type": "stream",
     "text": [
      "/opt/conda/lib/python3.10/site-packages/torchvision/models/_utils.py:208: UserWarning: The parameter 'pretrained' is deprecated since 0.13 and may be removed in the future, please use 'weights' instead.\n",
      "  warnings.warn(\n",
      "/opt/conda/lib/python3.10/site-packages/torchvision/models/_utils.py:223: UserWarning: Arguments other than a weight enum or `None` for 'weights' are deprecated since 0.13 and may be removed in the future. The current behavior is equivalent to passing `weights=ResNet50_Weights.IMAGENET1K_V1`. You can also use `weights=ResNet50_Weights.DEFAULT` to get the most up-to-date weights.\n",
      "  warnings.warn(msg)\n",
      "Downloading: \"https://download.pytorch.org/models/resnet50-0676ba61.pth\" to /root/.cache/torch/hub/checkpoints/resnet50-0676ba61.pth\n",
      "100%|██████████| 97.8M/97.8M [00:00<00:00, 152MB/s]\n"
     ]
    }
   ],
   "source": [
    "model = models.resnet50(pretrained=True)"
   ]
  },
  {
   "cell_type": "code",
   "execution_count": 12,
   "id": "adfad87e",
   "metadata": {
    "execution": {
     "iopub.execute_input": "2024-06-19T20:55:27.855572Z",
     "iopub.status.busy": "2024-06-19T20:55:27.855266Z",
     "iopub.status.idle": "2024-06-19T20:55:27.860074Z",
     "shell.execute_reply": "2024-06-19T20:55:27.859265Z"
    },
    "papermill": {
     "duration": 0.024404,
     "end_time": "2024-06-19T20:55:27.861966",
     "exception": false,
     "start_time": "2024-06-19T20:55:27.837562",
     "status": "completed"
    },
    "tags": []
   },
   "outputs": [],
   "source": [
    "model.fc = nn.Linear(model.fc.in_features, num_classes)"
   ]
  },
  {
   "cell_type": "code",
   "execution_count": 13,
   "id": "b8b5af62",
   "metadata": {
    "execution": {
     "iopub.execute_input": "2024-06-19T20:55:27.895947Z",
     "iopub.status.busy": "2024-06-19T20:55:27.895693Z",
     "iopub.status.idle": "2024-06-19T20:55:27.990083Z",
     "shell.execute_reply": "2024-06-19T20:55:27.989161Z"
    },
    "papermill": {
     "duration": 0.113573,
     "end_time": "2024-06-19T20:55:27.992088",
     "exception": false,
     "start_time": "2024-06-19T20:55:27.878515",
     "status": "completed"
    },
    "tags": []
   },
   "outputs": [
    {
     "name": "stdout",
     "output_type": "stream",
     "text": [
      "Using device: cuda\n"
     ]
    }
   ],
   "source": [
    "use_cuda = torch.cuda.is_available()\n",
    "device = torch.device(\"cuda\" if use_cuda else \"cpu\")\n",
    "print(f\"Using device: {device}\")"
   ]
  },
  {
   "cell_type": "code",
   "execution_count": 14,
   "id": "55a05a41",
   "metadata": {
    "execution": {
     "iopub.execute_input": "2024-06-19T20:55:28.025465Z",
     "iopub.status.busy": "2024-06-19T20:55:28.025155Z",
     "iopub.status.idle": "2024-06-19T20:55:28.316519Z",
     "shell.execute_reply": "2024-06-19T20:55:28.315472Z"
    },
    "papermill": {
     "duration": 0.31058,
     "end_time": "2024-06-19T20:55:28.318862",
     "exception": false,
     "start_time": "2024-06-19T20:55:28.008282",
     "status": "completed"
    },
    "tags": []
   },
   "outputs": [],
   "source": [
    "model = model.to(device)"
   ]
  },
  {
   "cell_type": "code",
   "execution_count": 15,
   "id": "25494ec2",
   "metadata": {
    "execution": {
     "iopub.execute_input": "2024-06-19T20:55:28.353088Z",
     "iopub.status.busy": "2024-06-19T20:55:28.352757Z",
     "iopub.status.idle": "2024-06-19T20:55:28.358723Z",
     "shell.execute_reply": "2024-06-19T20:55:28.358022Z"
    },
    "papermill": {
     "duration": 0.025023,
     "end_time": "2024-06-19T20:55:28.360603",
     "exception": false,
     "start_time": "2024-06-19T20:55:28.335580",
     "status": "completed"
    },
    "tags": []
   },
   "outputs": [],
   "source": [
    "criterion = nn.CrossEntropyLoss()\n",
    "\n",
    "# Define the optimizer\n",
    "optimizer = optim.Adam(model.parameters(), lr=0.0001)\n",
    "\n",
    "scheduler = lr_scheduler.StepLR(optimizer, step_size=7, gamma=0.1)"
   ]
  },
  {
   "cell_type": "code",
   "execution_count": 16,
   "id": "444f4619",
   "metadata": {
    "execution": {
     "iopub.execute_input": "2024-06-19T20:55:28.394158Z",
     "iopub.status.busy": "2024-06-19T20:55:28.393865Z",
     "iopub.status.idle": "2024-06-19T20:55:28.398151Z",
     "shell.execute_reply": "2024-06-19T20:55:28.397353Z"
    },
    "papermill": {
     "duration": 0.023415,
     "end_time": "2024-06-19T20:55:28.400068",
     "exception": false,
     "start_time": "2024-06-19T20:55:28.376653",
     "status": "completed"
    },
    "tags": []
   },
   "outputs": [],
   "source": [
    "num_epochs = 5\n",
    "desired_training_accuracy = 99.999\n",
    "early_stopping_threshold = 5\n",
    "early_stopping_counter = 0\n",
    "best_val_loss = float('inf')"
   ]
  },
  {
   "cell_type": "code",
   "execution_count": 17,
   "id": "ecab9a0a",
   "metadata": {
    "execution": {
     "iopub.execute_input": "2024-06-19T20:55:28.433845Z",
     "iopub.status.busy": "2024-06-19T20:55:28.433574Z",
     "iopub.status.idle": "2024-06-19T20:55:28.438193Z",
     "shell.execute_reply": "2024-06-19T20:55:28.437119Z"
    },
    "papermill": {
     "duration": 0.023771,
     "end_time": "2024-06-19T20:55:28.440096",
     "exception": false,
     "start_time": "2024-06-19T20:55:28.416325",
     "status": "completed"
    },
    "tags": []
   },
   "outputs": [],
   "source": [
    "train_losses = []\n",
    "train_accuracies = []\n",
    "val_losses = []\n",
    "val_accuracies = []\n",
    "predictions = []\n",
    "targets = []"
   ]
  },
  {
   "cell_type": "code",
   "execution_count": 18,
   "id": "66bb69ec",
   "metadata": {
    "execution": {
     "iopub.execute_input": "2024-06-19T20:55:28.473698Z",
     "iopub.status.busy": "2024-06-19T20:55:28.473219Z",
     "iopub.status.idle": "2024-06-19T20:56:54.950882Z",
     "shell.execute_reply": "2024-06-19T20:56:54.950024Z"
    },
    "papermill": {
     "duration": 86.496664,
     "end_time": "2024-06-19T20:56:54.953034",
     "exception": false,
     "start_time": "2024-06-19T20:55:28.456370",
     "status": "completed"
    },
    "tags": []
   },
   "outputs": [
    {
     "name": "stdout",
     "output_type": "stream",
     "text": [
      "Epoch 1/5, Batch 100/153, Training Loss: 0.03267876329176943, Training Accuracy: 98.75%\n",
      "Epoch 1/5, Training Loss: 0.02178166564337124, Training Accuracy: 99.17898193760263%, Validation Loss: 0.0001551111279638917, Validation Accuracy: 100.0%\n",
      "Epoch 2/5, Batch 100/153, Training Loss: 0.0109843271884165, Training Accuracy: 99.625%\n",
      "Epoch 2/5, Training Loss: 0.00844442888800366, Training Accuracy: 99.692118226601%, Validation Loss: 9.77744087094834e-05, Validation Accuracy: 100.0%\n",
      "Epoch 3/5, Batch 100/153, Training Loss: 0.0008887956468424818, Training Accuracy: 99.96875%\n",
      "Epoch 3/5, Training Loss: 0.001421876953102232, Training Accuracy: 99.95894909688013%, Validation Loss: 0.0001164533845440019, Validation Accuracy: 100.0%\n",
      "Epoch 4/5, Batch 100/153, Training Loss: 0.0006756380947263097, Training Accuracy: 99.96875%\n",
      "Epoch 4/5, Training Loss: 0.0004846030502282696, Training Accuracy: 99.97947454844007%, Validation Loss: 3.446862733653688e-05, Validation Accuracy: 100.0%\n",
      "Epoch 5/5, Batch 100/153, Training Loss: 6.491112369531039e-05, Training Accuracy: 100.0%\n",
      "Epoch 5/5, Training Loss: 7.251724595085298e-05, Training Accuracy: 100.0%, Validation Loss: 1.751581035023264e-05, Validation Accuracy: 100.0%\n"
     ]
    }
   ],
   "source": [
    "for epoch in range(num_epochs):\n",
    "    model.train()\n",
    "    running_loss = 0.0\n",
    "    correct_train = 0\n",
    "    total_train = 0\n",
    "\n",
    "    for i, (inputs, labels) in enumerate(train_loader):\n",
    "        inputs, labels = inputs.to(device), labels.to(device)\n",
    "        if -1 in labels:\n",
    "            continue  # Skip the batch if it contains dummy labels\n",
    "\n",
    "        optimizer.zero_grad()\n",
    "        outputs = model(inputs)\n",
    "        loss = criterion(outputs, labels)\n",
    "        loss.backward()\n",
    "        optimizer.step()\n",
    "        running_loss += loss.item()\n",
    "\n",
    "        _, predicted_train = torch.max(outputs.data, 1)\n",
    "        total_train += labels.size(0)\n",
    "        correct_train += (predicted_train == labels).sum().item()\n",
    "\n",
    "        # Print training loss and accuracy every 100 batches\n",
    "        if i % 100 == 99:\n",
    "            print(f'Epoch {epoch + 1}/{num_epochs}, Batch {i + 1}/{len(train_loader)}, '\n",
    "                  f'Training Loss: {running_loss / 100}, Training Accuracy: {100 * correct_train / total_train}%')\n",
    "\n",
    "    # Calculate training accuracy after the epoch\n",
    "    training_accuracy = correct_train / total_train\n",
    "\n",
    "    # Validation\n",
    "    model.eval()\n",
    "    correct_val = 0\n",
    "    total_val = 0\n",
    "    val_running_loss = 0.0\n",
    "\n",
    "    with torch.no_grad():\n",
    "        for inputs, labels in val_loader:\n",
    "            inputs, labels = inputs.to(device), labels.to(device)\n",
    "            if -1 in labels:\n",
    "                continue  # Skip the batch if it contains dummy labels\n",
    "\n",
    "            outputs = model(inputs)\n",
    "            loss = criterion(outputs, labels)\n",
    "            val_running_loss += loss.item()\n",
    "\n",
    "            _, predicted_val = torch.max(outputs.data, 1)\n",
    "            total_val += labels.size(0)\n",
    "            correct_val += (predicted_val == labels).sum().item()\n",
    "\n",
    "    # Calculate validation accuracy after the epoch\n",
    "    validation_accuracy = correct_val / total_val\n",
    "    average_val_loss = val_running_loss / len(val_loader)\n",
    "\n",
    "    print(f'Epoch {epoch + 1}/{num_epochs}, '\n",
    "          f'Training Loss: {running_loss / len(train_loader)}, '\n",
    "          f'Training Accuracy: {100 * training_accuracy}%, '\n",
    "          f'Validation Loss: {average_val_loss}, '\n",
    "          f'Validation Accuracy: {100 * validation_accuracy}%')\n",
    "\n",
    "    # Append training and validation metrics for plotting\n",
    "    train_losses.append(running_loss / len(train_loader))\n",
    "    train_accuracies.append(training_accuracy)\n",
    "    val_losses.append(average_val_loss)\n",
    "    val_accuracies.append(validation_accuracy)\n",
    "\n",
    "    scheduler.step()"
   ]
  },
  {
   "cell_type": "code",
   "execution_count": 19,
   "id": "5b72632c",
   "metadata": {
    "execution": {
     "iopub.execute_input": "2024-06-19T20:56:54.989502Z",
     "iopub.status.busy": "2024-06-19T20:56:54.989196Z",
     "iopub.status.idle": "2024-06-19T20:56:57.725125Z",
     "shell.execute_reply": "2024-06-19T20:56:57.723929Z"
    },
    "papermill": {
     "duration": 2.755887,
     "end_time": "2024-06-19T20:56:57.727226",
     "exception": false,
     "start_time": "2024-06-19T20:56:54.971339",
     "status": "completed"
    },
    "tags": []
   },
   "outputs": [
    {
     "name": "stdout",
     "output_type": "stream",
     "text": [
      "Test Accuracy: 100.0%\n"
     ]
    }
   ],
   "source": [
    "def evaluate_model(model, test_loader, device):\n",
    "    model.eval()  # Set model to evaluation mode\n",
    "    correct = 0\n",
    "    total = 0\n",
    "\n",
    "    with torch.no_grad():\n",
    "        for inputs, labels in test_loader:\n",
    "            inputs, labels = inputs.to(device), labels.to(device)\n",
    "            outputs = model(inputs)\n",
    "            _, predicted = torch.max(outputs.data, 1)\n",
    "            total += labels.size(0)\n",
    "            correct += (predicted == labels).sum().item()\n",
    "\n",
    "    test_accuracy = correct / total\n",
    "    print(f'Test Accuracy: {100 * test_accuracy}%')\n",
    "\n",
    "    return test_accuracy\n",
    "\n",
    "test_accuracy = evaluate_model(model, test_loader, device)"
   ]
  },
  {
   "cell_type": "code",
   "execution_count": 20,
   "id": "7b8b3114",
   "metadata": {
    "execution": {
     "iopub.execute_input": "2024-06-19T20:56:57.805690Z",
     "iopub.status.busy": "2024-06-19T20:56:57.804936Z",
     "iopub.status.idle": "2024-06-19T20:56:58.072959Z",
     "shell.execute_reply": "2024-06-19T20:56:58.072052Z"
    },
    "papermill": {
     "duration": 0.288688,
     "end_time": "2024-06-19T20:56:58.075230",
     "exception": false,
     "start_time": "2024-06-19T20:56:57.786542",
     "status": "completed"
    },
    "tags": []
   },
   "outputs": [
    {
     "data": {
      "image/png": "[encoded data removed]",
      "text/plain": [
       "<Figure size 1000x500 with 1 Axes>"
      ]
     },
     "metadata": {},
     "output_type": "display_data"
    }
   ],
   "source": [
    "plt.figure(figsize=(10, 5))\n",
    "plt.plot(train_losses, label='Train Loss')\n",
    "plt.plot(val_losses, label='Validation Loss')\n",
    "plt.xlabel('Epoch')\n",
    "plt.ylabel('Loss')\n",
    "plt.title('Training and Validation Loss')\n",
    "plt.legend()\n",
    "plt.grid(True)\n",
    "plt.show()"
   ]
  },
  {
   "cell_type": "code",
   "execution_count": 21,
   "id": "a567519a",
   "metadata": {
    "execution": {
     "iopub.execute_input": "2024-06-19T20:56:58.113457Z",
     "iopub.status.busy": "2024-06-19T20:56:58.112721Z",
     "iopub.status.idle": "2024-06-19T20:56:58.518566Z",
     "shell.execute_reply": "2024-06-19T20:56:58.517729Z"
    },
    "papermill": {
     "duration": 0.427384,
     "end_time": "2024-06-19T20:56:58.520773",
     "exception": false,
     "start_time": "2024-06-19T20:56:58.093389",
     "status": "completed"
    },
    "tags": []
   },
   "outputs": [
    {
     "data": {
      "image/png": "[encoded data removed]",
      "text/plain": [
       "<Figure size 1000x500 with 1 Axes>"
      ]
     },
     "metadata": {},
     "output_type": "display_data"
    }
   ],
   "source": [
    "plt.figure(figsize=(10, 5))\n",
    "plt.plot(train_accuracies, label='Train Accuracy')\n",
    "plt.plot(val_accuracies, label='Validation Accuracy')\n",
    "plt.xlabel('Epoch')\n",
    "plt.ylabel('Accuracy')\n",
    "plt.title('Training and Validation Accuracy')\n",
    "plt.legend()\n",
    "plt.grid(True)\n",
    "plt.show()"
   ]
  },
  {
   "cell_type": "markdown",
   "id": "276060ce",
   "metadata": {
    "papermill": {
     "duration": 0.018095,
     "end_time": "2024-06-19T20:56:58.557877",
     "exception": false,
     "start_time": "2024-06-19T20:56:58.539782",
     "status": "completed"
    },
    "tags": []
   },
   "source": [
    "# Test with The Full Video"
   ]
  },
  {
   "cell_type": "code",
   "execution_count": 22,
   "id": "97eb9cb9",
   "metadata": {
    "execution": {
     "iopub.execute_input": "2024-06-19T20:56:58.598111Z",
     "iopub.status.busy": "2024-06-19T20:56:58.597795Z",
     "iopub.status.idle": "2024-06-19T20:56:58.602188Z",
     "shell.execute_reply": "2024-06-19T20:56:58.601364Z"
    },
    "papermill": {
     "duration": 0.026112,
     "end_time": "2024-06-19T20:56:58.604140",
     "exception": false,
     "start_time": "2024-06-19T20:56:58.578028",
     "status": "completed"
    },
    "tags": []
   },
   "outputs": [],
   "source": [
    "DEVICE = torch.device('cuda' if torch.cuda.is_available() else 'cpu')"
   ]
  },
  {
   "cell_type": "code",
   "execution_count": 23,
   "id": "3ce07223",
   "metadata": {
    "execution": {
     "iopub.execute_input": "2024-06-19T20:56:58.641924Z",
     "iopub.status.busy": "2024-06-19T20:56:58.641361Z",
     "iopub.status.idle": "2024-06-19T20:56:58.651062Z",
     "shell.execute_reply": "2024-06-19T20:56:58.650198Z"
    },
    "papermill": {
     "duration": 0.030569,
     "end_time": "2024-06-19T20:56:58.653032",
     "exception": false,
     "start_time": "2024-06-19T20:56:58.622463",
     "status": "completed"
    },
    "tags": []
   },
   "outputs": [
    {
     "data": {
      "text/plain": [
       "ResNet(\n",
       "  (conv1): Conv2d(3, 64, kernel_size=(7, 7), stride=(2, 2), padding=(3, 3), bias=False)\n",
       "  (bn1): BatchNorm2d(64, eps=1e-05, momentum=0.1, affine=True, track_running_stats=True)\n",
       "  (relu): ReLU(inplace=True)\n",
       "  (maxpool): MaxPool2d(kernel_size=3, stride=2, padding=1, dilation=1, ceil_mode=False)\n",
       "  (layer1): Sequential(\n",
       "    (0): Bottleneck(\n",
       "      (conv1): Conv2d(64, 64, kernel_size=(1, 1), stride=(1, 1), bias=False)\n",
       "      (bn1): BatchNorm2d(64, eps=1e-05, momentum=0.1, affine=True, track_running_stats=True)\n",
       "      (conv2): Conv2d(64, 64, kernel_size=(3, 3), stride=(1, 1), padding=(1, 1), bias=False)\n",
       "      (bn2): BatchNorm2d(64, eps=1e-05, momentum=0.1, affine=True, track_running_stats=True)\n",
       "      (conv3): Conv2d(64, 256, kernel_size=(1, 1), stride=(1, 1), bias=False)\n",
       "      (bn3): BatchNorm2d(256, eps=1e-05, momentum=0.1, affine=True, track_running_stats=True)\n",
       "      (relu): ReLU(inplace=True)\n",
       "      (downsample): Sequential(\n",
       "        (0): Conv2d(64, 256, kernel_size=(1, 1), stride=(1, 1), bias=False)\n",
       "        (1): BatchNorm2d(256, eps=1e-05, momentum=0.1, affine=True, track_running_stats=True)\n",
       "      )\n",
       "    )\n",
       "    (1): Bottleneck(\n",
       "      (conv1): Conv2d(256, 64, kernel_size=(1, 1), stride=(1, 1), bias=False)\n",
       "      (bn1): BatchNorm2d(64, eps=1e-05, momentum=0.1, affine=True, track_running_stats=True)\n",
       "      (conv2): Conv2d(64, 64, kernel_size=(3, 3), stride=(1, 1), padding=(1, 1), bias=False)\n",
       "      (bn2): BatchNorm2d(64, eps=1e-05, momentum=0.1, affine=True, track_running_stats=True)\n",
       "      (conv3): Conv2d(64, 256, kernel_size=(1, 1), stride=(1, 1), bias=False)\n",
       "      (bn3): BatchNorm2d(256, eps=1e-05, momentum=0.1, affine=True, track_running_stats=True)\n",
       "      (relu): ReLU(inplace=True)\n",
       "    )\n",
       "    (2): Bottleneck(\n",
       "      (conv1): Conv2d(256, 64, kernel_size=(1, 1), stride=(1, 1), bias=False)\n",
       "      (bn1): BatchNorm2d(64, eps=1e-05, momentum=0.1, affine=True, track_running_stats=True)\n",
       "      (conv2): Conv2d(64, 64, kernel_size=(3, 3), stride=(1, 1), padding=(1, 1), bias=False)\n",
       "      (bn2): BatchNorm2d(64, eps=1e-05, momentum=0.1, affine=True, track_running_stats=True)\n",
       "      (conv3): Conv2d(64, 256, kernel_size=(1, 1), stride=(1, 1), bias=False)\n",
       "      (bn3): BatchNorm2d(256, eps=1e-05, momentum=0.1, affine=True, track_running_stats=True)\n",
       "      (relu): ReLU(inplace=True)\n",
       "    )\n",
       "  )\n",
       "  (layer2): Sequential(\n",
       "    (0): Bottleneck(\n",
       "      (conv1): Conv2d(256, 128, kernel_size=(1, 1), stride=(1, 1), bias=False)\n",
       "      (bn1): BatchNorm2d(128, eps=1e-05, momentum=0.1, affine=True, track_running_stats=True)\n",
       "      (conv2): Conv2d(128, 128, kernel_size=(3, 3), stride=(2, 2), padding=(1, 1), bias=False)\n",
       "      (bn2): BatchNorm2d(128, eps=1e-05, momentum=0.1, affine=True, track_running_stats=True)\n",
       "      (conv3): Conv2d(128, 512, kernel_size=(1, 1), stride=(1, 1), bias=False)\n",
       "      (bn3): BatchNorm2d(512, eps=1e-05, momentum=0.1, affine=True, track_running_stats=True)\n",
       "      (relu): ReLU(inplace=True)\n",
       "      (downsample): Sequential(\n",
       "        (0): Conv2d(256, 512, kernel_size=(1, 1), stride=(2, 2), bias=False)\n",
       "        (1): BatchNorm2d(512, eps=1e-05, momentum=0.1, affine=True, track_running_stats=True)\n",
       "      )\n",
       "    )\n",
       "    (1): Bottleneck(\n",
       "      (conv1): Conv2d(512, 128, kernel_size=(1, 1), stride=(1, 1), bias=False)\n",
       "      (bn1): BatchNorm2d(128, eps=1e-05, momentum=0.1, affine=True, track_running_stats=True)\n",
       "      (conv2): Conv2d(128, 128, kernel_size=(3, 3), stride=(1, 1), padding=(1, 1), bias=False)\n",
       "      (bn2): BatchNorm2d(128, eps=1e-05, momentum=0.1, affine=True, track_running_stats=True)\n",
       "      (conv3): Conv2d(128, 512, kernel_size=(1, 1), stride=(1, 1), bias=False)\n",
       "      (bn3): BatchNorm2d(512, eps=1e-05, momentum=0.1, affine=True, track_running_stats=True)\n",
       "      (relu): ReLU(inplace=True)\n",
       "    )\n",
       "    (2): Bottleneck(\n",
       "      (conv1): Conv2d(512, 128, kernel_size=(1, 1), stride=(1, 1), bias=False)\n",
       "      (bn1): BatchNorm2d(128, eps=1e-05, momentum=0.1, affine=True, track_running_stats=True)\n",
       "      (conv2): Conv2d(128, 128, kernel_size=(3, 3), stride=(1, 1), padding=(1, 1), bias=False)\n",
       "      (bn2): BatchNorm2d(128, eps=1e-05, momentum=0.1, affine=True, track_running_stats=True)\n",
       "      (conv3): Conv2d(128, 512, kernel_size=(1, 1), stride=(1, 1), bias=False)\n",
       "      (bn3): BatchNorm2d(512, eps=1e-05, momentum=0.1, affine=True, track_running_stats=True)\n",
       "      (relu): ReLU(inplace=True)\n",
       "    )\n",
       "    (3): Bottleneck(\n",
       "      (conv1): Conv2d(512, 128, kernel_size=(1, 1), stride=(1, 1), bias=False)\n",
       "      (bn1): BatchNorm2d(128, eps=1e-05, momentum=0.1, affine=True, track_running_stats=True)\n",
       "      (conv2): Conv2d(128, 128, kernel_size=(3, 3), stride=(1, 1), padding=(1, 1), bias=False)\n",
       "      (bn2): BatchNorm2d(128, eps=1e-05, momentum=0.1, affine=True, track_running_stats=True)\n",
       "      (conv3): Conv2d(128, 512, kernel_size=(1, 1), stride=(1, 1), bias=False)\n",
       "      (bn3): BatchNorm2d(512, eps=1e-05, momentum=0.1, affine=True, track_running_stats=True)\n",
       "      (relu): ReLU(inplace=True)\n",
       "    )\n",
       "  )\n",
       "  (layer3): Sequential(\n",
       "    (0): Bottleneck(\n",
       "      (conv1): Conv2d(512, 256, kernel_size=(1, 1), stride=(1, 1), bias=False)\n",
       "      (bn1): BatchNorm2d(256, eps=1e-05, momentum=0.1, affine=True, track_running_stats=True)\n",
       "      (conv2): Conv2d(256, 256, kernel_size=(3, 3), stride=(2, 2), padding=(1, 1), bias=False)\n",
       "      (bn2): BatchNorm2d(256, eps=1e-05, momentum=0.1, affine=True, track_running_stats=True)\n",
       "      (conv3): Conv2d(256, 1024, kernel_size=(1, 1), stride=(1, 1), bias=False)\n",
       "      (bn3): BatchNorm2d(1024, eps=1e-05, momentum=0.1, affine=True, track_running_stats=True)\n",
       "      (relu): ReLU(inplace=True)\n",
       "      (downsample): Sequential(\n",
       "        (0): Conv2d(512, 1024, kernel_size=(1, 1), stride=(2, 2), bias=False)\n",
       "        (1): BatchNorm2d(1024, eps=1e-05, momentum=0.1, affine=True, track_running_stats=True)\n",
       "      )\n",
       "    )\n",
       "    (1): Bottleneck(\n",
       "      (conv1): Conv2d(1024, 256, kernel_size=(1, 1), stride=(1, 1), bias=False)\n",
       "      (bn1): BatchNorm2d(256, eps=1e-05, momentum=0.1, affine=True, track_running_stats=True)\n",
       "      (conv2): Conv2d(256, 256, kernel_size=(3, 3), stride=(1, 1), padding=(1, 1), bias=False)\n",
       "      (bn2): BatchNorm2d(256, eps=1e-05, momentum=0.1, affine=True, track_running_stats=True)\n",
       "      (conv3): Conv2d(256, 1024, kernel_size=(1, 1), stride=(1, 1), bias=False)\n",
       "      (bn3): BatchNorm2d(1024, eps=1e-05, momentum=0.1, affine=True, track_running_stats=True)\n",
       "      (relu): ReLU(inplace=True)\n",
       "    )\n",
       "    (2): Bottleneck(\n",
       "      (conv1): Conv2d(1024, 256, kernel_size=(1, 1), stride=(1, 1), bias=False)\n",
       "      (bn1): BatchNorm2d(256, eps=1e-05, momentum=0.1, affine=True, track_running_stats=True)\n",
       "      (conv2): Conv2d(256, 256, kernel_size=(3, 3), stride=(1, 1), padding=(1, 1), bias=False)\n",
       "      (bn2): BatchNorm2d(256, eps=1e-05, momentum=0.1, affine=True, track_running_stats=True)\n",
       "      (conv3): Conv2d(256, 1024, kernel_size=(1, 1), stride=(1, 1), bias=False)\n",
       "      (bn3): BatchNorm2d(1024, eps=1e-05, momentum=0.1, affine=True, track_running_stats=True)\n",
       "      (relu): ReLU(inplace=True)\n",
       "    )\n",
       "    (3): Bottleneck(\n",
       "      (conv1): Conv2d(1024, 256, kernel_size=(1, 1), stride=(1, 1), bias=False)\n",
       "      (bn1): BatchNorm2d(256, eps=1e-05, momentum=0.1, affine=True, track_running_stats=True)\n",
       "      (conv2): Conv2d(256, 256, kernel_size=(3, 3), stride=(1, 1), padding=(1, 1), bias=False)\n",
       "      (bn2): BatchNorm2d(256, eps=1e-05, momentum=0.1, affine=True, track_running_stats=True)\n",
       "      (conv3): Conv2d(256, 1024, kernel_size=(1, 1), stride=(1, 1), bias=False)\n",
       "      (bn3): BatchNorm2d(1024, eps=1e-05, momentum=0.1, affine=True, track_running_stats=True)\n",
       "      (relu): ReLU(inplace=True)\n",
       "    )\n",
       "    (4): Bottleneck(\n",
       "      (conv1): Conv2d(1024, 256, kernel_size=(1, 1), stride=(1, 1), bias=False)\n",
       "      (bn1): BatchNorm2d(256, eps=1e-05, momentum=0.1, affine=True, track_running_stats=True)\n",
       "      (conv2): Conv2d(256, 256, kernel_size=(3, 3), stride=(1, 1), padding=(1, 1), bias=False)\n",
       "      (bn2): BatchNorm2d(256, eps=1e-05, momentum=0.1, affine=True, track_running_stats=True)\n",
       "      (conv3): Conv2d(256, 1024, kernel_size=(1, 1), stride=(1, 1), bias=False)\n",
       "      (bn3): BatchNorm2d(1024, eps=1e-05, momentum=0.1, affine=True, track_running_stats=True)\n",
       "      (relu): ReLU(inplace=True)\n",
       "    )\n",
       "    (5): Bottleneck(\n",
       "      (conv1): Conv2d(1024, 256, kernel_size=(1, 1), stride=(1, 1), bias=False)\n",
       "      (bn1): BatchNorm2d(256, eps=1e-05, momentum=0.1, affine=True, track_running_stats=True)\n",
       "      (conv2): Conv2d(256, 256, kernel_size=(3, 3), stride=(1, 1), padding=(1, 1), bias=False)\n",
       "      (bn2): BatchNorm2d(256, eps=1e-05, momentum=0.1, affine=True, track_running_stats=True)\n",
       "      (conv3): Conv2d(256, 1024, kernel_size=(1, 1), stride=(1, 1), bias=False)\n",
       "      (bn3): BatchNorm2d(1024, eps=1e-05, momentum=0.1, affine=True, track_running_stats=True)\n",
       "      (relu): ReLU(inplace=True)\n",
       "    )\n",
       "  )\n",
       "  (layer4): Sequential(\n",
       "    (0): Bottleneck(\n",
       "      (conv1): Conv2d(1024, 512, kernel_size=(1, 1), stride=(1, 1), bias=False)\n",
       "      (bn1): BatchNorm2d(512, eps=1e-05, momentum=0.1, affine=True, track_running_stats=True)\n",
       "      (conv2): Conv2d(512, 512, kernel_size=(3, 3), stride=(2, 2), padding=(1, 1), bias=False)\n",
       "      (bn2): BatchNorm2d(512, eps=1e-05, momentum=0.1, affine=True, track_running_stats=True)\n",
       "      (conv3): Conv2d(512, 2048, kernel_size=(1, 1), stride=(1, 1), bias=False)\n",
       "      (bn3): BatchNorm2d(2048, eps=1e-05, momentum=0.1, affine=True, track_running_stats=True)\n",
       "      (relu): ReLU(inplace=True)\n",
       "      (downsample): Sequential(\n",
       "        (0): Conv2d(1024, 2048, kernel_size=(1, 1), stride=(2, 2), bias=False)\n",
       "        (1): BatchNorm2d(2048, eps=1e-05, momentum=0.1, affine=True, track_running_stats=True)\n",
       "      )\n",
       "    )\n",
       "    (1): Bottleneck(\n",
       "      (conv1): Conv2d(2048, 512, kernel_size=(1, 1), stride=(1, 1), bias=False)\n",
       "      (bn1): BatchNorm2d(512, eps=1e-05, momentum=0.1, affine=True, track_running_stats=True)\n",
       "      (conv2): Conv2d(512, 512, kernel_size=(3, 3), stride=(1, 1), padding=(1, 1), bias=False)\n",
       "      (bn2): BatchNorm2d(512, eps=1e-05, momentum=0.1, affine=True, track_running_stats=True)\n",
       "      (conv3): Conv2d(512, 2048, kernel_size=(1, 1), stride=(1, 1), bias=False)\n",
       "      (bn3): BatchNorm2d(2048, eps=1e-05, momentum=0.1, affine=True, track_running_stats=True)\n",
       "      (relu): ReLU(inplace=True)\n",
       "    )\n",
       "    (2): Bottleneck(\n",
       "      (conv1): Conv2d(2048, 512, kernel_size=(1, 1), stride=(1, 1), bias=False)\n",
       "      (bn1): BatchNorm2d(512, eps=1e-05, momentum=0.1, affine=True, track_running_stats=True)\n",
       "      (conv2): Conv2d(512, 512, kernel_size=(3, 3), stride=(1, 1), padding=(1, 1), bias=False)\n",
       "      (bn2): BatchNorm2d(512, eps=1e-05, momentum=0.1, affine=True, track_running_stats=True)\n",
       "      (conv3): Conv2d(512, 2048, kernel_size=(1, 1), stride=(1, 1), bias=False)\n",
       "      (bn3): BatchNorm2d(2048, eps=1e-05, momentum=0.1, affine=True, track_running_stats=True)\n",
       "      (relu): ReLU(inplace=True)\n",
       "    )\n",
       "  )\n",
       "  (avgpool): AdaptiveAvgPool2d(output_size=(1, 1))\n",
       "  (fc): Linear(in_features=2048, out_features=2, bias=True)\n",
       ")"
      ]
     },
     "execution_count": 23,
     "metadata": {},
     "output_type": "execute_result"
    }
   ],
   "source": [
    "model.eval()"
   ]
  },
  {
   "cell_type": "code",
   "execution_count": 24,
   "id": "cf3ac209",
   "metadata": {
    "execution": {
     "iopub.execute_input": "2024-06-19T20:56:58.692568Z",
     "iopub.status.busy": "2024-06-19T20:56:58.692279Z",
     "iopub.status.idle": "2024-06-19T20:56:58.696345Z",
     "shell.execute_reply": "2024-06-19T20:56:58.695551Z"
    },
    "papermill": {
     "duration": 0.026245,
     "end_time": "2024-06-19T20:56:58.698503",
     "exception": false,
     "start_time": "2024-06-19T20:56:58.672258",
     "status": "completed"
    },
    "tags": []
   },
   "outputs": [],
   "source": [
    "transform = transforms.Compose([\n",
    "    transforms.Resize((64, 64)),\n",
    "    transforms.ToTensor(),\n",
    "])"
   ]
  },
  {
   "cell_type": "code",
   "execution_count": 25,
   "id": "b494b3c0",
   "metadata": {
    "execution": {
     "iopub.execute_input": "2024-06-19T20:56:58.751392Z",
     "iopub.status.busy": "2024-06-19T20:56:58.750950Z",
     "iopub.status.idle": "2024-06-19T20:56:58.760936Z",
     "shell.execute_reply": "2024-06-19T20:56:58.759916Z"
    },
    "papermill": {
     "duration": 0.041856,
     "end_time": "2024-06-19T20:56:58.763683",
     "exception": false,
     "start_time": "2024-06-19T20:56:58.721827",
     "status": "completed"
    },
    "tags": []
   },
   "outputs": [],
   "source": [
    "def empty_or_not(spot_bgr):\n",
    "    if spot_bgr is None or spot_bgr.size == 0:\n",
    "        return NOT_EMPTY\n",
    "\n",
    "    try:\n",
    "        # Convert BGR image to RGB and PIL Image\n",
    "        spot_rgb = cv2.cvtColor(spot_bgr, cv2.COLOR_BGR2RGB)\n",
    "        pil_img = Image.fromarray(spot_rgb)\n",
    "\n",
    "        # Apply transformation\n",
    "        img_tensor = transform(pil_img).unsqueeze(0).to(DEVICE)\n",
    "\n",
    "        # Get model prediction\n",
    "        with torch.no_grad():\n",
    "            output = model(img_tensor)\n",
    "            prediction = torch.argmax(output, dim=1).item()\n",
    "\n",
    "        return EMPTY if prediction == 0 else NOT_EMPTY\n",
    "\n",
    "    except Exception as e:\n",
    "        print(f\"Error processing image: {e}\")\n",
    "        return NOT_EMPTY"
   ]
  },
  {
   "cell_type": "code",
   "execution_count": 26,
   "id": "137548ea",
   "metadata": {
    "execution": {
     "iopub.execute_input": "2024-06-19T20:56:58.805439Z",
     "iopub.status.busy": "2024-06-19T20:56:58.805148Z",
     "iopub.status.idle": "2024-06-19T20:56:58.809357Z",
     "shell.execute_reply": "2024-06-19T20:56:58.808567Z"
    },
    "papermill": {
     "duration": 0.026419,
     "end_time": "2024-06-19T20:56:58.811241",
     "exception": false,
     "start_time": "2024-06-19T20:56:58.784822",
     "status": "completed"
    },
    "tags": []
   },
   "outputs": [],
   "source": [
    "mask_path = '/kaggle/input/parking-lot-detection-counter/parking/mask_1920_1080.png'\n",
    "video_path = '/kaggle/input/parking-lot-detection-counter/parking/parking_1920_1080.mp4'\n",
    "output_video_path = '/kaggle/working/output_video.mp4'"
   ]
  },
  {
   "cell_type": "code",
   "execution_count": 27,
   "id": "bfa8bc2f",
   "metadata": {
    "execution": {
     "iopub.execute_input": "2024-06-19T20:56:58.852611Z",
     "iopub.status.busy": "2024-06-19T20:56:58.851865Z",
     "iopub.status.idle": "2024-06-19T20:56:58.916846Z",
     "shell.execute_reply": "2024-06-19T20:56:58.916141Z"
    },
    "papermill": {
     "duration": 0.087252,
     "end_time": "2024-06-19T20:56:58.918723",
     "exception": false,
     "start_time": "2024-06-19T20:56:58.831471",
     "status": "completed"
    },
    "tags": []
   },
   "outputs": [],
   "source": [
    "mask = cv2.imread(mask_path, 0)"
   ]
  },
  {
   "cell_type": "code",
   "execution_count": 28,
   "id": "8ec874a0",
   "metadata": {
    "execution": {
     "iopub.execute_input": "2024-06-19T20:56:58.957636Z",
     "iopub.status.busy": "2024-06-19T20:56:58.957354Z",
     "iopub.status.idle": "2024-06-19T20:56:59.159727Z",
     "shell.execute_reply": "2024-06-19T20:56:59.158944Z"
    },
    "papermill": {
     "duration": 0.223965,
     "end_time": "2024-06-19T20:56:59.162050",
     "exception": false,
     "start_time": "2024-06-19T20:56:58.938085",
     "status": "completed"
    },
    "tags": []
   },
   "outputs": [],
   "source": [
    "cap = cv2.VideoCapture(video_path)\n",
    "ret, frame = cap.read()"
   ]
  },
  {
   "cell_type": "code",
   "execution_count": 29,
   "id": "88411a42",
   "metadata": {
    "execution": {
     "iopub.execute_input": "2024-06-19T20:56:59.201148Z",
     "iopub.status.busy": "2024-06-19T20:56:59.200414Z",
     "iopub.status.idle": "2024-06-19T20:56:59.223565Z",
     "shell.execute_reply": "2024-06-19T20:56:59.222872Z"
    },
    "papermill": {
     "duration": 0.044526,
     "end_time": "2024-06-19T20:56:59.225461",
     "exception": false,
     "start_time": "2024-06-19T20:56:59.180935",
     "status": "completed"
    },
    "tags": []
   },
   "outputs": [],
   "source": [
    "connected_components = cv2.connectedComponentsWithStats(mask, 4, cv2.CV_32S)"
   ]
  },
  {
   "cell_type": "code",
   "execution_count": 30,
   "id": "ada4d797",
   "metadata": {
    "execution": {
     "iopub.execute_input": "2024-06-19T20:56:59.265054Z",
     "iopub.status.busy": "2024-06-19T20:56:59.264481Z",
     "iopub.status.idle": "2024-06-19T20:56:59.270934Z",
     "shell.execute_reply": "2024-06-19T20:56:59.270126Z"
    },
    "papermill": {
     "duration": 0.028203,
     "end_time": "2024-06-19T20:56:59.272876",
     "exception": false,
     "start_time": "2024-06-19T20:56:59.244673",
     "status": "completed"
    },
    "tags": []
   },
   "outputs": [],
   "source": [
    "def get_parking_spots_bboxes(connected_components):\n",
    "    (totalLabels, label_ids, values, centroid) = connected_components\n",
    "    slots = []\n",
    "    coef = 1\n",
    "    for i in range(1, totalLabels):\n",
    "        x1 = int(values[i, cv2.CC_STAT_LEFT] * coef)\n",
    "        y1 = int(values[i, cv2.CC_STAT_TOP] * coef)\n",
    "        w = int(values[i, cv2.CC_STAT_WIDTH] * coef)\n",
    "        h = int(values[i, cv2.CC_STAT_HEIGHT] * coef)\n",
    "        slots.append([x1, y1, w, h])\n",
    "    return slots"
   ]
  },
  {
   "cell_type": "code",
   "execution_count": 31,
   "id": "9527124e",
   "metadata": {
    "execution": {
     "iopub.execute_input": "2024-06-19T20:56:59.311306Z",
     "iopub.status.busy": "2024-06-19T20:56:59.311066Z",
     "iopub.status.idle": "2024-06-19T20:56:59.320849Z",
     "shell.execute_reply": "2024-06-19T20:56:59.320034Z"
    },
    "papermill": {
     "duration": 0.031109,
     "end_time": "2024-06-19T20:56:59.322693",
     "exception": false,
     "start_time": "2024-06-19T20:56:59.291584",
     "status": "completed"
    },
    "tags": []
   },
   "outputs": [],
   "source": [
    "spots = get_parking_spots_bboxes(connected_components)"
   ]
  },
  {
   "cell_type": "code",
   "execution_count": 32,
   "id": "9d45c84c",
   "metadata": {
    "execution": {
     "iopub.execute_input": "2024-06-19T20:56:59.360884Z",
     "iopub.status.busy": "2024-06-19T20:56:59.360152Z",
     "iopub.status.idle": "2024-06-19T20:56:59.364530Z",
     "shell.execute_reply": "2024-06-19T20:56:59.363831Z"
    },
    "papermill": {
     "duration": 0.025431,
     "end_time": "2024-06-19T20:56:59.366323",
     "exception": false,
     "start_time": "2024-06-19T20:56:59.340892",
     "status": "completed"
    },
    "tags": []
   },
   "outputs": [],
   "source": [
    "spots_status = [None for _ in spots]\n",
    "diffs = [None for _ in spots]\n",
    "previous_frame = None"
   ]
  },
  {
   "cell_type": "code",
   "execution_count": 33,
   "id": "95510a3b",
   "metadata": {
    "execution": {
     "iopub.execute_input": "2024-06-19T20:56:59.404157Z",
     "iopub.status.busy": "2024-06-19T20:56:59.403903Z",
     "iopub.status.idle": "2024-06-19T20:56:59.407586Z",
     "shell.execute_reply": "2024-06-19T20:56:59.406789Z"
    },
    "papermill": {
     "duration": 0.025101,
     "end_time": "2024-06-19T20:56:59.409711",
     "exception": false,
     "start_time": "2024-06-19T20:56:59.384610",
     "status": "completed"
    },
    "tags": []
   },
   "outputs": [],
   "source": [
    "frame_nmr = 0\n",
    "ret = True\n",
    "step = 30"
   ]
  },
  {
   "cell_type": "code",
   "execution_count": 34,
   "id": "c24d2f15",
   "metadata": {
    "execution": {
     "iopub.execute_input": "2024-06-19T20:56:59.447525Z",
     "iopub.status.busy": "2024-06-19T20:56:59.447271Z",
     "iopub.status.idle": "2024-06-19T20:56:59.456318Z",
     "shell.execute_reply": "2024-06-19T20:56:59.455655Z"
    },
    "papermill": {
     "duration": 0.030142,
     "end_time": "2024-06-19T20:56:59.458160",
     "exception": false,
     "start_time": "2024-06-19T20:56:59.428018",
     "status": "completed"
    },
    "tags": []
   },
   "outputs": [],
   "source": [
    "out = cv2.VideoWriter(output_video_path, cv2.VideoWriter_fourcc(*'mp4v'), 30, (frame.shape[1], frame.shape[0]))"
   ]
  },
  {
   "cell_type": "code",
   "execution_count": 35,
   "id": "a9ea8a25",
   "metadata": {
    "execution": {
     "iopub.execute_input": "2024-06-19T20:56:59.495932Z",
     "iopub.status.busy": "2024-06-19T20:56:59.495671Z",
     "iopub.status.idle": "2024-06-19T20:56:59.499815Z",
     "shell.execute_reply": "2024-06-19T20:56:59.499026Z"
    },
    "papermill": {
     "duration": 0.025186,
     "end_time": "2024-06-19T20:56:59.501780",
     "exception": false,
     "start_time": "2024-06-19T20:56:59.476594",
     "status": "completed"
    },
    "tags": []
   },
   "outputs": [],
   "source": [
    "def calc_diff(im1, im2):\n",
    "    return np.abs(np.mean(im1) - np.mean(im2))"
   ]
  },
  {
   "cell_type": "code",
   "execution_count": 36,
   "id": "3f6328e4",
   "metadata": {
    "execution": {
     "iopub.execute_input": "2024-06-19T20:56:59.539957Z",
     "iopub.status.busy": "2024-06-19T20:56:59.539695Z",
     "iopub.status.idle": "2024-06-19T20:56:59.543232Z",
     "shell.execute_reply": "2024-06-19T20:56:59.542394Z"
    },
    "papermill": {
     "duration": 0.024777,
     "end_time": "2024-06-19T20:56:59.545055",
     "exception": false,
     "start_time": "2024-06-19T20:56:59.520278",
     "status": "completed"
    },
    "tags": []
   },
   "outputs": [],
   "source": [
    "EMPTY = True\n",
    "NOT_EMPTY = False"
   ]
  },
  {
   "cell_type": "code",
   "execution_count": 37,
   "id": "45b27ce9",
   "metadata": {
    "execution": {
     "iopub.execute_input": "2024-06-19T20:56:59.583961Z",
     "iopub.status.busy": "2024-06-19T20:56:59.583438Z",
     "iopub.status.idle": "2024-06-19T20:57:24.213204Z",
     "shell.execute_reply": "2024-06-19T20:57:24.212331Z"
    },
    "papermill": {
     "duration": 24.652094,
     "end_time": "2024-06-19T20:57:24.215647",
     "exception": false,
     "start_time": "2024-06-19T20:56:59.563553",
     "status": "completed"
    },
    "tags": []
   },
   "outputs": [],
   "source": [
    "while ret:\n",
    "    ret, frame = cap.read()\n",
    "    if not ret:\n",
    "        break\n",
    "\n",
    "    if frame_nmr % step == 0 and previous_frame is not None:\n",
    "        # Process frame\n",
    "        for spot_indx, spot in enumerate(spots):\n",
    "            x1, y1, w, h = spot\n",
    "            spot_crop = frame[y1:y1 + h, x1:x1 + w, :]\n",
    "            diffs[spot_indx] = calc_diff(spot_crop, previous_frame[y1:y1 + h, x1:x1 + w, :])\n",
    "\n",
    "    if frame_nmr % step == 0:\n",
    "        if previous_frame is None:\n",
    "            arr_ = range(len(spots))\n",
    "        else:\n",
    "            arr_ = [j for j in np.argsort(diffs) if diffs[j] / np.amax(diffs) > 0.4]\n",
    "        for spot_indx in arr_:\n",
    "            spot = spots[spot_indx]\n",
    "            x1, y1, w, h = spot\n",
    "            spot_crop = frame[y1:y1 + h, x1:x1 + w, :]\n",
    "            spot_status = empty_or_not(spot_crop)\n",
    "            spots_status[spot_indx] = spot_status\n",
    "\n",
    "    if frame_nmr % step == 0:\n",
    "        previous_frame = frame.copy()\n",
    "\n",
    "    for spot_indx, spot in enumerate(spots):\n",
    "        spot_status = spots_status[spot_indx]\n",
    "        x1, y1, w, h = spots[spot_indx]\n",
    "        color = (0, 255, 0) if spot_status else (0, 0, 255)\n",
    "        frame = cv2.rectangle(frame, (x1, y1), (x1 + w, y1 + h), color, 2)\n",
    "\n",
    "    cv2.rectangle(frame, (80, 20), (1000, 80), (0, 0, 0), -1)\n",
    "    num_empty = sum(1 for status in spots_status if status == EMPTY)\n",
    "    num_not_empty = len(spots) - num_empty\n",
    "    total_slots = len(spots)\n",
    "    status_text = f'Empty: {num_empty}, Not Empty: {num_not_empty}, Total Slots: {total_slots}'\n",
    "    cv2.putText(frame, status_text, (50, 50), cv2.FONT_HERSHEY_SIMPLEX, 1, (255, 255, 255), 2)\n",
    "\n",
    "    # Write the processed frame to the output video\n",
    "    out.write(frame)\n",
    "\n",
    "    frame_nmr += 1"
   ]
  },
  {
   "cell_type": "code",
   "execution_count": 38,
   "id": "e9b7fa30",
   "metadata": {
    "execution": {
     "iopub.execute_input": "2024-06-19T20:57:24.254969Z",
     "iopub.status.busy": "2024-06-19T20:57:24.254642Z",
     "iopub.status.idle": "2024-06-19T20:57:24.263062Z",
     "shell.execute_reply": "2024-06-19T20:57:24.262199Z"
    },
    "papermill": {
     "duration": 0.030404,
     "end_time": "2024-06-19T20:57:24.265296",
     "exception": false,
     "start_time": "2024-06-19T20:57:24.234892",
     "status": "completed"
    },
    "tags": []
   },
   "outputs": [],
   "source": [
    "cap.release()\n",
    "out.release()"
   ]
  },
  {
   "cell_type": "markdown",
   "id": "453d0b88",
   "metadata": {
    "papermill": {
     "duration": 0.01859,
     "end_time": "2024-06-19T20:57:24.302927",
     "exception": false,
     "start_time": "2024-06-19T20:57:24.284337",
     "status": "completed"
    },
    "tags": []
   },
   "source": [
    "# Test with The Cropped Video"
   ]
  },
  {
   "cell_type": "code",
   "execution_count": 39,
   "id": "33b34734",
   "metadata": {
    "execution": {
     "iopub.execute_input": "2024-06-19T20:57:24.341541Z",
     "iopub.status.busy": "2024-06-19T20:57:24.341233Z",
     "iopub.status.idle": "2024-06-19T20:57:24.345518Z",
     "shell.execute_reply": "2024-06-19T20:57:24.344653Z"
    },
    "papermill": {
     "duration": 0.026085,
     "end_time": "2024-06-19T20:57:24.347739",
     "exception": false,
     "start_time": "2024-06-19T20:57:24.321654",
     "status": "completed"
    },
    "tags": []
   },
   "outputs": [],
   "source": [
    "mask_path = '/kaggle/input/parking-lot-detection-counter/parking/mask_crop.png'\n",
    "video_path = '/kaggle/input/parking-lot-detection-counter/parking/parking_crop.mp4'\n",
    "output_video_path = '/kaggle/working/cropped_output_video.mp4'"
   ]
  },
  {
   "cell_type": "code",
   "execution_count": 40,
   "id": "0c9dad5d",
   "metadata": {
    "execution": {
     "iopub.execute_input": "2024-06-19T20:57:24.386375Z",
     "iopub.status.busy": "2024-06-19T20:57:24.386131Z",
     "iopub.status.idle": "2024-06-19T20:57:24.395689Z",
     "shell.execute_reply": "2024-06-19T20:57:24.395017Z"
    },
    "papermill": {
     "duration": 0.031048,
     "end_time": "2024-06-19T20:57:24.397486",
     "exception": false,
     "start_time": "2024-06-19T20:57:24.366438",
     "status": "completed"
    },
    "tags": []
   },
   "outputs": [],
   "source": [
    "mask = cv2.imread(mask_path, 0)"
   ]
  },
  {
   "cell_type": "code",
   "execution_count": 41,
   "id": "832c0ceb",
   "metadata": {
    "execution": {
     "iopub.execute_input": "2024-06-19T20:57:24.435149Z",
     "iopub.status.busy": "2024-06-19T20:57:24.434876Z",
     "iopub.status.idle": "2024-06-19T20:57:24.455525Z",
     "shell.execute_reply": "2024-06-19T20:57:24.454852Z"
    },
    "papermill": {
     "duration": 0.041463,
     "end_time": "2024-06-19T20:57:24.457285",
     "exception": false,
     "start_time": "2024-06-19T20:57:24.415822",
     "status": "completed"
    },
    "tags": []
   },
   "outputs": [],
   "source": [
    "cap = cv2.VideoCapture(video_path)\n",
    "ret, frame = cap.read()"
   ]
  },
  {
   "cell_type": "code",
   "execution_count": 42,
   "id": "9fba7c3a",
   "metadata": {
    "execution": {
     "iopub.execute_input": "2024-06-19T20:57:24.495319Z",
     "iopub.status.busy": "2024-06-19T20:57:24.495068Z",
     "iopub.status.idle": "2024-06-19T20:57:24.500950Z",
     "shell.execute_reply": "2024-06-19T20:57:24.499938Z"
    },
    "papermill": {
     "duration": 0.026899,
     "end_time": "2024-06-19T20:57:24.502808",
     "exception": false,
     "start_time": "2024-06-19T20:57:24.475909",
     "status": "completed"
    },
    "tags": []
   },
   "outputs": [],
   "source": [
    "connected_components = cv2.connectedComponentsWithStats(mask, 4, cv2.CV_32S)"
   ]
  },
  {
   "cell_type": "code",
   "execution_count": 43,
   "id": "b24cc7a3",
   "metadata": {
    "execution": {
     "iopub.execute_input": "2024-06-19T20:57:24.540168Z",
     "iopub.status.busy": "2024-06-19T20:57:24.539891Z",
     "iopub.status.idle": "2024-06-19T20:57:24.544077Z",
     "shell.execute_reply": "2024-06-19T20:57:24.543172Z"
    },
    "papermill": {
     "duration": 0.025102,
     "end_time": "2024-06-19T20:57:24.546191",
     "exception": false,
     "start_time": "2024-06-19T20:57:24.521089",
     "status": "completed"
    },
    "tags": []
   },
   "outputs": [],
   "source": [
    "spots = get_parking_spots_bboxes(connected_components)"
   ]
  },
  {
   "cell_type": "code",
   "execution_count": 44,
   "id": "e5b926cc",
   "metadata": {
    "execution": {
     "iopub.execute_input": "2024-06-19T20:57:24.584641Z",
     "iopub.status.busy": "2024-06-19T20:57:24.584369Z",
     "iopub.status.idle": "2024-06-19T20:57:24.588802Z",
     "shell.execute_reply": "2024-06-19T20:57:24.588015Z"
    },
    "papermill": {
     "duration": 0.025416,
     "end_time": "2024-06-19T20:57:24.590611",
     "exception": false,
     "start_time": "2024-06-19T20:57:24.565195",
     "status": "completed"
    },
    "tags": []
   },
   "outputs": [],
   "source": [
    "spots_status = [None for _ in spots]\n",
    "diffs = [None for _ in spots]\n",
    "previous_frame = None\n",
    "\n",
    "frame_nmr = 0\n",
    "ret = True\n",
    "step = 30"
   ]
  },
  {
   "cell_type": "code",
   "execution_count": 45,
   "id": "b8c22f7c",
   "metadata": {
    "execution": {
     "iopub.execute_input": "2024-06-19T20:57:24.628381Z",
     "iopub.status.busy": "2024-06-19T20:57:24.628137Z",
     "iopub.status.idle": "2024-06-19T20:57:24.632375Z",
     "shell.execute_reply": "2024-06-19T20:57:24.631626Z"
    },
    "papermill": {
     "duration": 0.025079,
     "end_time": "2024-06-19T20:57:24.634246",
     "exception": false,
     "start_time": "2024-06-19T20:57:24.609167",
     "status": "completed"
    },
    "tags": []
   },
   "outputs": [],
   "source": [
    "out = cv2.VideoWriter(output_video_path, cv2.VideoWriter_fourcc(*'mp4v'), 30, (frame.shape[1], frame.shape[0]))"
   ]
  },
  {
   "cell_type": "code",
   "execution_count": 46,
   "id": "44b26dc3",
   "metadata": {
    "execution": {
     "iopub.execute_input": "2024-06-19T20:57:24.672046Z",
     "iopub.status.busy": "2024-06-19T20:57:24.671773Z",
     "iopub.status.idle": "2024-06-19T20:57:27.109954Z",
     "shell.execute_reply": "2024-06-19T20:57:27.109042Z"
    },
    "papermill": {
     "duration": 2.460051,
     "end_time": "2024-06-19T20:57:27.112545",
     "exception": false,
     "start_time": "2024-06-19T20:57:24.652494",
     "status": "completed"
    },
    "tags": []
   },
   "outputs": [],
   "source": [
    "while ret:\n",
    "    ret, frame = cap.read()\n",
    "    if not ret:\n",
    "        break\n",
    "\n",
    "    if frame_nmr % step == 0 and previous_frame is not None:\n",
    "        # Process frame\n",
    "        for spot_indx, spot in enumerate(spots):\n",
    "            x1, y1, w, h = spot\n",
    "            spot_crop = frame[y1:y1 + h, x1:x1 + w, :]\n",
    "            diffs[spot_indx] = calc_diff(spot_crop, previous_frame[y1:y1 + h, x1:x1 + w, :])\n",
    "\n",
    "    if frame_nmr % step == 0:\n",
    "        if previous_frame is None:\n",
    "            arr_ = range(len(spots))\n",
    "        else:\n",
    "            arr_ = [j for j in np.argsort(diffs) if diffs[j] / np.amax(diffs) > 0.4]\n",
    "        for spot_indx in arr_:\n",
    "            spot = spots[spot_indx]\n",
    "            x1, y1, w, h = spot\n",
    "            spot_crop = frame[y1:y1 + h, x1:x1 + w, :]\n",
    "            spot_status = empty_or_not(spot_crop)\n",
    "            spots_status[spot_indx] = spot_status\n",
    "\n",
    "    if frame_nmr % step == 0:\n",
    "        previous_frame = frame.copy()\n",
    "\n",
    "    for spot_indx, spot in enumerate(spots):\n",
    "        spot_status = spots_status[spot_indx]\n",
    "        x1, y1, w, h = spots[spot_indx]\n",
    "        color = (0, 255, 0) if spot_status else (0, 0, 255)\n",
    "        frame = cv2.rectangle(frame, (x1, y1), (x1 + w, y1 + h), color, 2)\n",
    "\n",
    "    cv2.rectangle(frame, (80, 20), (150, 60), (0, 0, 0), -1)\n",
    "    num_empty = sum(1 for status in spots_status if status == EMPTY)\n",
    "    num_not_empty = len(spots) - num_empty\n",
    "    total_slots = len(spots)\n",
    "    status_text = f'Empty: {num_empty}, Not Empty: {num_not_empty}, Total Slots: {total_slots}'\n",
    "    cv2.putText(frame, status_text, (50, 50), cv2.FONT_HERSHEY_SIMPLEX, 0.3, (255, 255, 255), 1)\n",
    "\n",
    "    # Write the processed frame to the output  Not Empty : eo\n",
    "    out.write(frame)\n",
    "\n",
    "    frame_nmr += 1"
   ]
  },
  {
   "cell_type": "code",
   "execution_count": 47,
   "id": "60cf86da",
   "metadata": {
    "execution": {
     "iopub.execute_input": "2024-06-19T20:57:27.151709Z",
     "iopub.status.busy": "2024-06-19T20:57:27.151328Z",
     "iopub.status.idle": "2024-06-19T20:57:27.158410Z",
     "shell.execute_reply": "2024-06-19T20:57:27.157694Z"
    },
    "papermill": {
     "duration": 0.028625,
     "end_time": "2024-06-19T20:57:27.160308",
     "exception": false,
     "start_time": "2024-06-19T20:57:27.131683",
     "status": "completed"
    },
    "tags": []
   },
   "outputs": [],
   "source": [
    "cap.release()\n",
    "out.release()"
   ]
  },
  {
   "cell_type": "code",
   "execution_count": null,
   "id": "493c7059",
   "metadata": {
    "papermill": {
     "duration": 0.018098,
     "end_time": "2024-06-19T20:57:27.196830",
     "exception": false,
     "start_time": "2024-06-19T20:57:27.178732",
     "status": "completed"
    },
    "tags": []
   },
   "outputs": [],
   "source": []
  }
 ],
 "metadata": {
  "kaggle": {
   "accelerator": "nvidiaTeslaT4",
   "dataSources": [
    {
     "datasetId": 5055547,
     "sourceId": 8477004,
     "sourceType": "datasetVersion"
    }
   ],
   "dockerImageVersionId": 30733,
   "isGpuEnabled": true,
   "isInternetEnabled": true,
   "language": "python",
   "sourceType": "notebook"
  },
  "kernelspec": {
   "display_name": "Python 3",
   "language": "python",
   "name": "python3"
  },
  "language_info": {
   "codemirror_mode": {
    "name": "ipython",
    "version": 3
   },
   "file_extension": ".py",
   "mimetype": "text/x-python",
   "name": "python",
   "nbconvert_exporter": "python",
   "pygments_lexer": "ipython3",
   "version": "3.10.13"
  },
  "papermill": {
   "default_parameters": {},
   "duration": 136.458532,
   "end_time": "2024-06-19T20:57:29.567338",
   "environment_variables": {},
   "exception": null,
   "input_path": "__notebook__.ipynb",
   "output_path": "__notebook__.ipynb",
   "parameters": {},
   "start_time": "2024-06-19T20:55:13.108806",
   "version": "2.5.0"
  }
 },
 "nbformat": 4,
 "nbformat_minor": 5
}
